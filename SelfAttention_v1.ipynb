{
 "cells": [
  {
   "cell_type": "code",
   "execution_count": 8,
   "id": "45bedc14-1a90-4b88-876f-d0237017b8ea",
   "metadata": {},
   "outputs": [],
   "source": [
    "import torch\n",
    "import torch.nn as nn\n",
    "\n",
    "# 自注意力 v1：最简实现，没有 bias、没有 mask、没有 batch\n",
    "class SelfAttention_v1(nn.Module):\n",
    "    def __init__(self, d_in, d_out):\n",
    "        super().__init__()\n",
    "        self.W_query = nn.Parameter(torch.rand(d_in, d_out))\n",
    "        self.W_key   = nn.Parameter(torch.rand(d_in, d_out))\n",
    "        self.W_value = nn.Parameter(torch.rand(d_in, d_out))\n",
    "\n",
    "    def forward(self, x):\n",
    "        # x: shape = [num_tokens, d_in]\n",
    "        queries = x @ self.W_query      # [num_tokens, d_out]\n",
    "        keys    = x @ self.W_key        # [num_tokens, d_out]\n",
    "        values  = x @ self.W_value      # [num_tokens, d_out]\n",
    "\n",
    "        attn_scores = queries @ keys.T  # [num_tokens, num_tokens]\n",
    "        attn_weights = torch.softmax(\n",
    "            attn_scores / (keys.shape[-1] ** 0.5), dim=-1\n",
    "        )\n",
    "\n",
    "        context = attn_weights @ values  # [num_tokens, d_out]\n",
    "        return context, attn_weights  # ⬅ 加上权重返回\n"
   ]
  },
  {
   "cell_type": "code",
   "execution_count": 9,
   "id": "19396f2a-ba78-4c64-9933-c14276a78243",
   "metadata": {},
   "outputs": [
    {
     "name": "stdout",
     "output_type": "stream",
     "text": [
      "注意力权重矩阵 shape: torch.Size([4, 4])\n",
      "注意力权重矩阵内容:\n",
      " tensor([[0.1374, 0.5729, 0.2220, 0.0678],\n",
      "        [0.0998, 0.6732, 0.1882, 0.0387],\n",
      "        [0.1307, 0.5953, 0.2134, 0.0606],\n",
      "        [0.1572, 0.5265, 0.2302, 0.0862]], grad_fn=<SoftmaxBackward0>)\n"
     ]
    }
   ],
   "source": [
    "# 假设有 4 个词，每个词的 embedding 是 5维\n",
    "num_tokens = 4\n",
    "d_in = 5\n",
    "d_out = 8\n",
    "\n",
    "# 生成输入：随机词向量\n",
    "x = torch.rand(num_tokens, d_in)\n",
    "\n",
    "# 初始化模型\n",
    "attn = SelfAttention_v1(d_in, d_out)\n",
    "\n",
    "# 前向传播\n",
    "out, attn_weights = attn(x)\n",
    "\n",
    "\n",
    "print(\"注意力权重矩阵 shape:\", attn_weights.shape)\n",
    "print(\"注意力权重矩阵内容:\\n\", attn_weights)\n"
   ]
  },
  {
   "cell_type": "code",
   "execution_count": null,
   "id": "57bfd2fb-9c91-442a-878e-d1634acc8eaa",
   "metadata": {},
   "outputs": [],
   "source": []
  }
 ],
 "metadata": {
  "kernelspec": {
   "display_name": "Python (pytorch)",
   "language": "python",
   "name": "pytorch"
  },
  "language_info": {
   "codemirror_mode": {
    "name": "ipython",
    "version": 3
   },
   "file_extension": ".py",
   "mimetype": "text/x-python",
   "name": "python",
   "nbconvert_exporter": "python",
   "pygments_lexer": "ipython3",
   "version": "3.10.16"
  }
 },
 "nbformat": 4,
 "nbformat_minor": 5
}
