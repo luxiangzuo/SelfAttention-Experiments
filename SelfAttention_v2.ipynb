{
 "cells": [
  {
   "cell_type": "code",
   "execution_count": 2,
   "id": "0382f990-568b-4147-96ff-b5405847547e",
   "metadata": {},
   "outputs": [],
   "source": [
    "import torch\n",
    "import torch.nn as nn\n",
    "\n",
    "class SelfAttention_v2(nn.Module):\n",
    "    def __init__(self, d_in, d_out):\n",
    "        super().__init__()\n",
    "        # 使用 nn.Linear 自动管理权重和 bias\n",
    "        self.query_proj = nn.Linear(d_in, d_out)\n",
    "        self.key_proj   = nn.Linear(d_in, d_out)\n",
    "        self.value_proj = nn.Linear(d_in, d_out)\n",
    "\n",
    "    def forward(self, x):\n",
    "        # 变换成 Q K V\n",
    "        Q = self.query_proj(x)   # shape: [tokens, d_out]\n",
    "        K = self.key_proj(x)\n",
    "        V = self.value_proj(x)\n",
    "\n",
    "        # 注意力权重计算（QK^T / √d）\n",
    "        attn_scores = Q @ K.transpose(-2, -1)\n",
    "        attn_weights = torch.softmax(attn_scores / (K.shape[-1] ** 0.5), dim=-1)\n",
    "\n",
    "        # 加权聚合 V\n",
    "        context = attn_weights @ V\n",
    "\n",
    "        return context, attn_weights\n"
   ]
  },
  {
   "cell_type": "code",
   "execution_count": 4,
   "id": "c96bbfda-c19d-4740-b34e-4a6be1543ef0",
   "metadata": {},
   "outputs": [
    {
     "name": "stdout",
     "output_type": "stream",
     "text": [
      "输出 shape: torch.Size([4, 8])\n",
      "注意力矩阵:\n",
      " tensor([[0.2441, 0.2636, 0.2368, 0.2554],\n",
      "        [0.2526, 0.2618, 0.2458, 0.2398],\n",
      "        [0.2458, 0.2631, 0.2365, 0.2547],\n",
      "        [0.2482, 0.2612, 0.2392, 0.2514]], grad_fn=<SoftmaxBackward0>)\n"
     ]
    }
   ],
   "source": [
    "num_tokens = 4\n",
    "d_in = 5\n",
    "d_out = 8\n",
    "\n",
    "x = torch.rand(num_tokens, d_in)\n",
    "attn = SelfAttention_v2(d_in, d_out)\n",
    "\n",
    "out, attn_weights = attn(x)\n",
    "print(\"输出 shape:\", out.shape)\n",
    "print(\"注意力矩阵:\\n\", attn_weights)\n"
   ]
  },
  {
   "cell_type": "code",
   "execution_count": null,
   "id": "b05fefb0-ddfa-40ec-aa11-86f29e782587",
   "metadata": {},
   "outputs": [],
   "source": []
  }
 ],
 "metadata": {
  "kernelspec": {
   "display_name": "Python (pytorch)",
   "language": "python",
   "name": "pytorch"
  },
  "language_info": {
   "codemirror_mode": {
    "name": "ipython",
    "version": 3
   },
   "file_extension": ".py",
   "mimetype": "text/x-python",
   "name": "python",
   "nbconvert_exporter": "python",
   "pygments_lexer": "ipython3",
   "version": "3.10.16"
  }
 },
 "nbformat": 4,
 "nbformat_minor": 5
}
